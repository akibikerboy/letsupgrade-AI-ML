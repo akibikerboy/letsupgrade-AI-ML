{
  "nbformat": 4,
  "nbformat_minor": 0,
  "metadata": {
    "colab": {
      "name": "AI/ML Day 5.ipynb",
      "provenance": []
    },
    "kernelspec": {
      "name": "python3",
      "display_name": "Python 3"
    }
  },
  "cells": [
    {
      "cell_type": "code",
      "metadata": {
        "id": "pIWbRPBGcxNJ",
        "colab_type": "code",
        "colab": {}
      },
      "source": [
        ""
      ],
      "execution_count": null,
      "outputs": []
    },
    {
      "cell_type": "markdown",
      "metadata": {
        "id": "CPuPjh9ioCKE",
        "colab_type": "text"
      },
      "source": [
        "#Question 1 :\n",
        "Write a Python program to find the first 20 non-even prime natural numbers"
      ]
    },
    {
      "cell_type": "code",
      "metadata": {
        "id": "J4Z9TEptoI-6",
        "colab_type": "code",
        "colab": {
          "base_uri": "https://localhost:8080/",
          "height": 129
        },
        "outputId": "5686d856-5034-4015-82cf-1837b6fe627f"
      },
      "source": [
        "a = 1\n",
        "b = 200\n",
        "u=0\n",
        "while u==200 :\n",
        "   if (u>1):\n",
        "     for i in range(2,num):\n",
        "          if ((num % i) == 0):\n",
        "               break\n",
        "     else:\n",
        "          if (num%2!=0):\n",
        "               print(num,end=\" \")\n",
        "               u=u+1              "
      ],
      "execution_count": 45,
      "outputs": [
        {
          "output_type": "error",
          "ename": "IndentationError",
          "evalue": "ignored",
          "traceback": [
            "\u001b[0;36m  File \u001b[0;32m\"<ipython-input-45-da219d4b7ddd>\"\u001b[0;36m, line \u001b[0;32m9\u001b[0m\n\u001b[0;31m    else:\u001b[0m\n\u001b[0m         ^\u001b[0m\n\u001b[0;31mIndentationError\u001b[0m\u001b[0;31m:\u001b[0m unindent does not match any outer indentation level\n"
          ]
        }
      ]
    },
    {
      "cell_type": "markdown",
      "metadata": {
        "id": "3wEZBxZsl-KC",
        "colab_type": "text"
      },
      "source": [
        "#Question 2 :\n",
        "Write a Python program to implement 15 functions of string"
      ]
    },
    {
      "cell_type": "code",
      "metadata": {
        "id": "Y_V2l2vbmElx",
        "colab_type": "code",
        "colab": {
          "base_uri": "https://localhost:8080/",
          "height": 289
        },
        "outputId": "1d082c15-f5d6-49d9-cab0-1836bb06ed0d"
      },
      "source": [
        "string = \"HELLO WORLD\"\n",
        "if string.isupper():\n",
        "  print(string, ': All letters in the string are uppercase.\\n')\n",
        "string = \"hello world\"\n",
        "if string.islower():\n",
        "  print(string, ': All letters in the string are lowercase .\\n')  \n",
        "string = \"Hello India\"\n",
        "if string.isalnum:\n",
        "  print(string, ': The String is alphanumeric.\\n')    \n",
        "string = \"52894545\"\n",
        "if string.isdigit:\n",
        "  print(string, ': The String contains only digit.\\n')\n",
        "string = \"  \"\n",
        "if string.isspace:\n",
        "  print(string, ': The String contains only space.\\n') \n",
        "string = \"  \"\n",
        "string = \"Hello WORLD  \"\n",
        "toLower = string.lower()\n",
        "print(\"Convert String in Lower case:\" , toLower,'\\n')\n",
        "toUpper = string.upper()\n",
        "print(\"Convert String in Upper case:\" , toUpper,'\\n')\n",
        "string = \"Hello World\"\n",
        "print('\\nRight Strip:', string.rstrip('H'))     "
      ],
      "execution_count": 64,
      "outputs": [
        {
          "output_type": "stream",
          "text": [
            "HELLO WORLD : All letters in the string are uppercase.\n",
            "\n",
            "hello world : All letters in the string are lowercase .\n",
            "\n",
            "Hello India : The String is alphanumeric.\n",
            "\n",
            "52894545 : The String contains only digit.\n",
            "\n",
            "   : The String contains only space.\n",
            "\n",
            "Convert String in Lower case: hello world   \n",
            "\n",
            "Convert String in Upper case: HELLO WORLD   \n",
            "\n",
            "\n",
            "Right Strip: Hello World\n"
          ],
          "name": "stdout"
        }
      ]
    },
    {
      "cell_type": "markdown",
      "metadata": {
        "id": "b_-Zu-5Qgadq",
        "colab_type": "text"
      },
      "source": [
        "#Question 3:\n",
        "Write a Python program to check if the given string is a Palindrome or Anagram or None of them.\n",
        "Display the message accordingly to the user.\n"
      ]
    },
    {
      "cell_type": "code",
      "metadata": {
        "id": "jVDPwho1gjyZ",
        "colab_type": "code",
        "colab": {
          "base_uri": "https://localhost:8080/",
          "height": 68
        },
        "outputId": "f4d12888-7105-421d-e63d-0ffe34c4a0f9"
      },
      "source": [
        "string1 = input((\"Enter a String 1:\"))\n",
        "string2 = input((\"Enter String 2:\"))\n",
        "if(string1==string2[::-1]):\n",
        "    print(\"String is a Palindrome\")\n",
        "else:\n",
        "    print(\"String is Not a Palindrome \")        "
      ],
      "execution_count": 15,
      "outputs": [
        {
          "output_type": "stream",
          "text": [
            "Enter a String 1:radar\n",
            "Enter String 2:radar\n",
            "String is a Palindrome\n"
          ],
          "name": "stdout"
        }
      ]
    },
    {
      "cell_type": "markdown",
      "metadata": {
        "id": "PmTZFJO1c8Hx",
        "colab_type": "text"
      },
      "source": [
        "#Question 4:\n",
        "Write a Python's user defined function that removes all the additional characters from the string\n",
        "and converts it finally to lower case using built-in lower(). eg: If the string is \"Dr. Darshan Ingle\n",
        "@AI-ML Trainer\", then the output be \"drdarshaningleaimltrainer\"."
      ]
    },
    {
      "cell_type": "code",
      "metadata": {
        "id": "dWqip8n7dQ7k",
        "colab_type": "code",
        "colab": {
          "base_uri": "https://localhost:8080/",
          "height": 68
        },
        "outputId": "41196da0-c9af-4a4a-f2d0-6bb82b47d37c"
      },
      "source": [
        "def replace_char(y):\n",
        "    invalid_list = ['!','@','#','$','%','^','&','*','(',')','+','_','?','.',':','-',\" \"]\n",
        "    for i in invalid_list :\n",
        "        y = y.replace(i,'')\n",
        "        y = y.lower()\n",
        "    print(\"After Removing all special characters from string\")\n",
        "    print(\"Resultant string is:\" , y)\n",
        "\n",
        "string_5 = 'Dr. Darshan Ingle @AI-ML Trainer'\n",
        "print(\"string is :\" , string_5)\n",
        "replace_char(string_5)        "
      ],
      "execution_count": 5,
      "outputs": [
        {
          "output_type": "stream",
          "text": [
            "string is : Dr. Darshan Ingle @AI-ML Trainer\n",
            "After Removing all special characters from string\n",
            "Resultant string is: drdarshaningleaimltrainer\n"
          ],
          "name": "stdout"
        }
      ]
    }
  ]
}