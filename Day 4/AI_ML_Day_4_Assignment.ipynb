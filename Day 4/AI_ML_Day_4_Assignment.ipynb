{
  "nbformat": 4,
  "nbformat_minor": 0,
  "metadata": {
    "colab": {
      "name": "AI-ML Day 4 Assignment.ipynb",
      "provenance": []
    },
    "kernelspec": {
      "name": "python3",
      "display_name": "Python 3"
    }
  },
  "cells": [
    {
      "cell_type": "code",
      "metadata": {
        "id": "I09-s30NZAEQ",
        "colab_type": "code",
        "colab": {}
      },
      "source": [
        ""
      ],
      "execution_count": null,
      "outputs": []
    },
    {
      "cell_type": "markdown",
      "metadata": {
        "id": "iATf-oseaNyQ",
        "colab_type": "text"
      },
      "source": [
        "#Question 1 :\n",
        "Research on whether addition, subtraction, multiplication, division, floor division and modulo\n",
        "operations be performed on complex numbers. Based on your study, implement a Python\n",
        "program to demonstrate these operations."
      ]
    },
    {
      "cell_type": "code",
      "metadata": {
        "id": "wYeE0KaFaTl_",
        "colab_type": "code",
        "colab": {
          "base_uri": "https://localhost:8080/",
          "height": 85
        },
        "outputId": "6ec6b2b2-7b1e-4b4e-d7e1-5a6430cc955b"
      },
      "source": [
        "# Floor Division & Modulo Cant be performed on complex numbers\n",
        "n1 = 2 + 3j\n",
        "n2 = 4 + 6j\n",
        "print(\"Addition of the 2 Complex number is :\" , n1 + n2)\n",
        "print(\"Subtraction of the 2 Complex number is :\" , n1 - n2)\n",
        "print(\"Multiplication of the 2 Complex number is :\" , n1 * n2)\n",
        "print(\"Division of the 2 Complex number is :\" , n1 / n2)"
      ],
      "execution_count": null,
      "outputs": [
        {
          "output_type": "stream",
          "text": [
            "Addition of the 2 Complex number is : (6+9j)\n",
            "Subtraction of the 2 Complex number is : (-2-3j)\n",
            "Multiplication of the 2 Complex number is : (-10+24j)\n",
            "Division of the 2 Complex number is : (0.5+0j)\n"
          ],
          "name": "stdout"
        }
      ]
    },
    {
      "cell_type": "markdown",
      "metadata": {
        "id": "7ZxDbLMFVXu6",
        "colab_type": "text"
      },
      "source": [
        "#Question 2 :\n",
        "Research on range() functions and its parameters. Create a markdown cell and write in your own\n",
        "words (no copy-paste from google please) what you understand about it. Implement a small\n",
        "program of your choice on the same.\n"
      ]
    },
    {
      "cell_type": "markdown",
      "metadata": {
        "id": "IFB9SG2Mgr6Y",
        "colab_type": "text"
      },
      "source": [
        "Range() Function is used when a user need to do a task for specific number of times ,  by Default - its Starts with 0 and increments by 1 and stops last number - 1 \n",
        "#1 Parameter are Start , Stop , Step\n",
        "Start - basically its a starting point of the sequence by default its starts with 0 . \n",
        "Stop - User need to define where a task needs to be stop\n",
        "Step - Its a diffrence between two values in the result by default diffrence between two values is 1"
      ]
    },
    {
      "cell_type": "code",
      "metadata": {
        "id": "5rlwC17VlnCz",
        "colab_type": "code",
        "colab": {
          "base_uri": "https://localhost:8080/",
          "height": 34
        },
        "outputId": "85bbce8f-4cf7-463e-b10f-b8c33029bc14"
      },
      "source": [
        "a = range(3 , 10 , 2)\n",
        "for i in a:\n",
        "  print(i,end=\" \")\n",
        "\n"
      ],
      "execution_count": null,
      "outputs": [
        {
          "output_type": "stream",
          "text": [
            "3 5 7 9 "
          ],
          "name": "stdout"
        }
      ]
    },
    {
      "cell_type": "markdown",
      "metadata": {
        "id": "aGfbeKfHlTbu",
        "colab_type": "text"
      },
      "source": [
        "#Question 3:\n",
        " Consider two numbers. Perform their subtraction and if the result of subtraction is greater than\n",
        "25, print their multiplication result else print their division result.\n"
      ]
    },
    {
      "cell_type": "code",
      "metadata": {
        "id": "Tv_FDp_-sKPl",
        "colab_type": "code",
        "colab": {
          "base_uri": "https://localhost:8080/",
          "height": 85
        },
        "outputId": "9ea81e51-0517-4a54-bda2-0e1461088cdb"
      },
      "source": [
        "a = int(input(\"Enter Value of a:\"))\n",
        "b = int(input(\"Enter Value of b :\"))\n",
        "result = a-b\n",
        "print(\"Subtraction of a & b :\" , result)\n",
        "if result>25:    \n",
        "    print(\"Result of Subtraction is Greater then 25 So it will go in Multiplication & Multiplication of a & b :\" , a*b)\n",
        "else:\n",
        "    print(\"Result of Subtraction is lesser then 25 So it will go in Division & Division of a & b :\" , a/b)"
      ],
      "execution_count": null,
      "outputs": [
        {
          "output_type": "stream",
          "text": [
            " Enter Value of a:100\n",
            "Enter Value of b :2\n",
            "Subtraction of a & b : 98\n",
            "Result of Subtraction is Greater then 25 So it will go in Multiplication & Multiplication of a & b : 200\n"
          ],
          "name": "stdout"
        }
      ]
    },
    {
      "cell_type": "markdown",
      "metadata": {
        "id": "AfQsYe07n-t_",
        "colab_type": "text"
      },
      "source": [
        "#Question 4:\n",
        "Consider a list of 10 elements of integer values. If the number in the list is divisible by 2, print the\n",
        "result as \"square of that number minus 2\".\n"
      ]
    },
    {
      "cell_type": "code",
      "metadata": {
        "id": "7CouiMmIBSSw",
        "colab_type": "code",
        "colab": {
          "base_uri": "https://localhost:8080/",
          "height": 102
        },
        "outputId": "f41bf29e-bdad-4321-c673-861f69dfc43d"
      },
      "source": [
        "l = [15,21,30,42,57,68,96,45,55,63]\n",
        "for i in l:\n",
        "    if (i % 2) == 0:\n",
        "      print((i**2)-2)\n",
        "else:\n",
        "    print(\"Not Divisible\")            "
      ],
      "execution_count": 139,
      "outputs": [
        {
          "output_type": "stream",
          "text": [
            "898\n",
            "1762\n",
            "4622\n",
            "9214\n",
            "Not Divisible\n"
          ],
          "name": "stdout"
        }
      ]
    },
    {
      "cell_type": "markdown",
      "metadata": {
        "id": "h197cysaaU_w",
        "colab_type": "text"
      },
      "source": [
        "#Question 5:\n",
        "Consider a list of 10 elements. Print all the elements in the list which are greater than 7 when that\n",
        "number is divided 2."
      ]
    },
    {
      "cell_type": "code",
      "metadata": {
        "id": "c6f-waJ9abEx",
        "colab_type": "code",
        "colab": {
          "base_uri": "https://localhost:8080/",
          "height": 119
        },
        "outputId": "71ff1cf7-1d52-407a-e8c8-e4bcf5f37293"
      },
      "source": [
        "l = [25,63,1,98,45,6,85,12,2,55,3]\n",
        "for i in l:\n",
        "  if (i / 2) > 7:\n",
        "    print (i)\n"
      ],
      "execution_count": 146,
      "outputs": [
        {
          "output_type": "stream",
          "text": [
            "25\n",
            "63\n",
            "98\n",
            "45\n",
            "85\n",
            "55\n"
          ],
          "name": "stdout"
        }
      ]
    },
    {
      "cell_type": "markdown",
      "metadata": {
        "id": "sp_2yLr9lRkR",
        "colab_type": "text"
      },
      "source": [
        ""
      ]
    },
    {
      "cell_type": "code",
      "metadata": {
        "id": "zzvE63qkIEtx",
        "colab_type": "code",
        "colab": {}
      },
      "source": [
        ""
      ],
      "execution_count": null,
      "outputs": []
    }
  ]
}