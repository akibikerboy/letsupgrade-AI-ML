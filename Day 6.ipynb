{
 "cells": [
  {
   "cell_type": "code",
   "execution_count": 5,
   "metadata": {},
   "outputs": [
    {
     "name": "stdout",
     "output_type": "stream",
     "text": [
      "hello@letsupgrade.com\n",
      "letsupgrade\n"
     ]
    }
   ],
   "source": [
    "#Assignment 1\n",
    "def email(args):\n",
    "    str1 = args\n",
    "    x=str1.partition(\"@\")\n",
    "    txt =x[2].partition(\".\")\n",
    "    print(txt[0])\n",
    "email(input())    "
   ]
  },
  {
   "cell_type": "code",
   "execution_count": 7,
   "metadata": {},
   "outputs": [
    {
     "name": "stdout",
     "output_type": "stream",
     "text": [
      "Apple, Banana, Lemon, Onion\n"
     ]
    }
   ],
   "source": [
    "\n",
    "def commaSeparated(args):\n",
    "    s = args.split(\", \")\n",
    "    s.sort()\n",
    "    stext = \", \"\n",
    "    return stext.join(s)\n",
    "\n",
    "\n",
    "print(commaSeparated(\"Apple, Banana, Onion, Lemon\"))"
   ]
  },
  {
   "cell_type": "markdown",
   "metadata": {},
   "source": []
  },
  {
   "cell_type": "markdown",
   "metadata": {},
   "source": [
    "# Sets\n",
    "\n",
    "A set is a collection of data which is unordred unindexed. Data in sets are enclosed by {} curly braces.\n",
    "\n",
    "   testSet = {\"Hello\", \"Welcome\", \"World!\"}\n",
    "\n",
    "Since the order is not fixed, each time when you run the order will change.\n",
    "\n",
    "We cannot access the data in the set with index\n",
    "\n",
    "We can loop by using the items in the set\n",
    "\n",
    "We can check whether the element is present in data set or not\n",
    "\n",
    "We cannot change the items in set but we can add new items to the set bt using add()\n",
    "\n",
    "We can use len() to know the length of set or simply we can say no. of values present in the set\n",
    "\n",
    "remove() and discard() methods are used to remove the value from the set.\n",
    "\n",
    "The only difference between remove() and discard() is discard() will not taise any error when the item is not present where as remove() will raise error\n",
    "\n",
    "pop() is also used to remove an item from the set, pop() removes the item that present last in the set.\n",
    "\n",
    "Since the order is not constant, it is not good to use pop(). The return value of pop() is the removed item\n",
    "\n",
    "del keyword will delete the entire set, when tried to print interpretor will return \"name 'testSet' is not defined\"\n",
    "\n",
    "clear() will empty the set\n",
    "\n",
    "We can join two sets using union() and update(). update() will insert one set values into another set. Both methods will remove duplicates\n",
    "\n",
    "We can creeate a set using set() constructor"
   ]
  },
  {
   "cell_type": "code",
   "execution_count": 8,
   "metadata": {},
   "outputs": [
    {
     "name": "stdout",
     "output_type": "stream",
     "text": [
      "True\n",
      "8\n",
      "{'World!', 'Hey', 'You', 'Welcome', 'How', 'Rest', 'are'}\n",
      "{'two', 'one', 'three'}\n"
     ]
    }
   ],
   "source": [
    "#SetMedthods\n",
    "\n",
    "testSet = {\"Hello\", \"Welcome\", \"World!\"}\n",
    "print(\"Hello\" in testSet)  #Verifying the element present in the set\n",
    "\n",
    "testSet.add(\"Rest\")  #To add a new value to the set\n",
    "testSet.update([\"Hey\", \"How\", \"are\", \"You\"])   #To add multiple values to the set\n",
    "\n",
    "print(len(testSet)) #To know the length of the set\n",
    "\n",
    "testSet.remove(\"Hello\") #To remove an item from the set\n",
    "print(testSet)\n",
    "testSet.discard(\"Hello\") #To remove an item from the set\n",
    "\n",
    "testSet.clear() #To clear the entire set\n",
    "\n",
    "#del testSet # To remove the entire set\n",
    "\n",
    "testSet2 = {\"When\", \"Where\", \"What\"}\n",
    "\n",
    "testSET = testSet.union(testSet2) #To join two sets\n",
    "\n",
    "testSet3 = set((\"one\", \"two\",\"three\")) #To create a set\n",
    "\n",
    "print(testSet3)\n"
   ]
  },
  {
   "cell_type": "code",
   "execution_count": 9,
   "metadata": {},
   "outputs": [
    {
     "name": "stdout",
     "output_type": "stream",
     "text": [
      "1 2 5 8 7 9\n",
      "The missed number is: 3 The missed number is: 4 The missed number is: 6 "
     ]
    }
   ],
   "source": [
    "#Assignment 4\n",
    "\n",
    "x = list(map(int, input().split()))\n",
    "\n",
    "for i in range(x[0],x[-1]+1):\n",
    "    if i not in x:\n",
    "        print(\"The missed number is:\",i, end=\" \")\n"
   ]
  },
  {
   "cell_type": "code",
   "execution_count": 10,
   "metadata": {},
   "outputs": [
    {
     "name": "stdout",
     "output_type": "stream",
     "text": [
      "12 84 68 66 22 665 45\n",
      "12 84 68 66 22 665 45"
     ]
    }
   ],
   "source": [
    "#Assignment 5\n",
    "\n",
    "l = list(input().split())\n",
    "dup = list(dict.fromkeys(l))\n",
    "print(*dup, end=\"\")\n"
   ]
  }
 ],
 "metadata": {
  "kernelspec": {
   "display_name": "Python 3",
   "language": "python",
   "name": "python3"
  },
  "language_info": {
   "codemirror_mode": {
    "name": "ipython",
    "version": 3
   },
   "file_extension": ".py",
   "mimetype": "text/x-python",
   "name": "python",
   "nbconvert_exporter": "python",
   "pygments_lexer": "ipython3",
   "version": "3.8.3"
  }
 },
 "nbformat": 4,
 "nbformat_minor": 4
}
