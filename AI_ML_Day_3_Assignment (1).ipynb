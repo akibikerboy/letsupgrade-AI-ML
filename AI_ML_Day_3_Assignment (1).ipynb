{
  "nbformat": 4,
  "nbformat_minor": 0,
  "metadata": {
    "colab": {
      "name": "AI-ML Day 3 Assignment.ipynb",
      "provenance": []
    },
    "kernelspec": {
      "name": "python3",
      "display_name": "Python 3"
    }
  },
  "cells": [
    {
      "cell_type": "markdown",
      "metadata": {
        "id": "qcQYyiPKaHGi",
        "colab_type": "text"
      },
      "source": [
        "#Question 1 :"
      ]
    },
    {
      "cell_type": "markdown",
      "metadata": {
        "id": "C1NWeCNPa1Wa",
        "colab_type": "text"
      },
      "source": [
        "#Write a program to subtract two complex numbers in Python.\n"
      ]
    },
    {
      "cell_type": "code",
      "metadata": {
        "id": "7UNNO8VqZ58Z",
        "colab_type": "code",
        "colab": {
          "base_uri": "https://localhost:8080/",
          "height": 34
        },
        "outputId": "9ba7cfb4-0bcd-487f-e084-377dc61b2f19"
      },
      "source": [
        "complexnumber1 = 16 + 10j\n",
        "complexnumber2 = 8 + 20j\n",
        "print (\"Subtraction of two complex number = \" , complexnumber1 - complexnumber2)"
      ],
      "execution_count": null,
      "outputs": [
        {
          "output_type": "stream",
          "text": [
            "Subtraction of two complex number =  (8-10j)\n"
          ],
          "name": "stdout"
        }
      ]
    },
    {
      "cell_type": "markdown",
      "metadata": {
        "id": "2WeySvZdfSVR",
        "colab_type": "text"
      },
      "source": [
        "#Question 2\n",
        "Write a program to find the fourth root of a number."
      ]
    },
    {
      "cell_type": "code",
      "metadata": {
        "id": "gnSJCB_2fgM_",
        "colab_type": "code",
        "colab": {
          "base_uri": "https://localhost:8080/",
          "height": 51
        },
        "outputId": "12e44761-a385-4d89-acf5-57256ec629c5"
      },
      "source": [
        "a = float(input('Enter a number:'))\n",
        "b = a**0.25\n",
        "print(\"Fourth root of a number =\" , b)\n"
      ],
      "execution_count": null,
      "outputs": [
        {
          "output_type": "stream",
          "text": [
            "Enter a number:100\n",
            "Fourth root of a number = 3.1622776601683795\n"
          ],
          "name": "stdout"
        }
      ]
    },
    {
      "cell_type": "markdown",
      "metadata": {
        "id": "Wh-ftb3NkOR_",
        "colab_type": "text"
      },
      "source": [
        "#Question 3\n",
        "Write a program to swap two numbers in Python with the help of a temporary variable.\n"
      ]
    },
    {
      "cell_type": "code",
      "metadata": {
        "id": "40DmdtRIkaf8",
        "colab_type": "code",
        "colab": {
          "base_uri": "https://localhost:8080/",
          "height": 51
        },
        "outputId": "17000a31-272a-4ada-da8a-59a2c5b6a005"
      },
      "source": [
        "a = 200\n",
        "b = 500\n",
        "temp = a\n",
        "a = b\n",
        "b = temp\n",
        "print(\"Value of a\" , a)\n",
        "print(\"Value of b\" , b)"
      ],
      "execution_count": null,
      "outputs": [
        {
          "output_type": "stream",
          "text": [
            "Value of a 500\n",
            "Value of b 200\n"
          ],
          "name": "stdout"
        }
      ]
    },
    {
      "cell_type": "markdown",
      "metadata": {
        "id": "hFcDnrdMmJHP",
        "colab_type": "text"
      },
      "source": [
        "#Question 4\n",
        "Write a program to swap two numbers in Python without using a temporary variable.\n"
      ]
    },
    {
      "cell_type": "code",
      "metadata": {
        "id": "dR4_vAI_mP1c",
        "colab_type": "code",
        "colab": {
          "base_uri": "https://localhost:8080/",
          "height": 51
        },
        "outputId": "137efe5f-25a3-48ea-a71d-42f61a5ce931"
      },
      "source": [
        "a = 200\n",
        "b = 500\n",
        "a = a + b\n",
        "b= a - b\n",
        "a = a - b\n",
        "print(\"Value of a\" , a)\n",
        "print(\"Value of b\" , b)"
      ],
      "execution_count": null,
      "outputs": [
        {
          "output_type": "stream",
          "text": [
            "Value of a 500\n",
            "Value of b 200\n"
          ],
          "name": "stdout"
        }
      ]
    },
    {
      "cell_type": "markdown",
      "metadata": {
        "id": "QqfcpPk1NWdE",
        "colab_type": "text"
      },
      "source": [
        "#Question 5\n",
        "Write a program to convert fahrenheit to kelvin and celsius both.\n"
      ]
    },
    {
      "cell_type": "code",
      "metadata": {
        "id": "-4lvjebINmBH",
        "colab_type": "code",
        "colab": {
          "base_uri": "https://localhost:8080/",
          "height": 68
        },
        "outputId": "be22dc11-850e-4de2-b9f7-f145ecc8982e"
      },
      "source": [
        "f = int(input())\n",
        "c = (5*(f-32))/9\n",
        "print(c)\n",
        "print(c+273.15)"
      ],
      "execution_count": null,
      "outputs": [
        {
          "output_type": "stream",
          "text": [
            "10\n",
            "-12.222222222222221\n",
            "260.92777777777775\n"
          ],
          "name": "stdout"
        }
      ]
    },
    {
      "cell_type": "markdown",
      "metadata": {
        "id": "DLUwaDaBO1ok",
        "colab_type": "text"
      },
      "source": [
        "#Question 6\n",
        "Write a program to demonstrate all the available data types in Python. Hint: Use type() function.\n"
      ]
    },
    {
      "cell_type": "code",
      "metadata": {
        "id": "5x03GieIO_Dh",
        "colab_type": "code",
        "colab": {
          "base_uri": "https://localhost:8080/",
          "height": 153
        },
        "outputId": "ec6ed57a-da89-4903-c689-552894659a85"
      },
      "source": [
        "a = 60\n",
        "print(\"Given Value of a Data type is\",type(a))\n",
        "b = 53.687\n",
        "print(\"Given Value of b Data type is\",type(b))\n",
        "c = 45+68j\n",
        "print(\"Given Value of c Data type is\",type(c))\n",
        "d = [23,56,8,69,20,99]\n",
        "print(\"Given Value of d Data type is\",type(d))\n",
        "e = (60 , 53.67 , \"Hello World\" , 45+68j)\n",
        "print(\"Given Value of e  Data type is\",type(e))\n",
        "f = (\"Hello World\")\n",
        "print(\"Given Value of f Data type is\",type(f))\n",
        "g = {52.68 , 68 , 8}\n",
        "print(\"Given Value of g Data type is\",type(g))\n",
        "h = {\"brand\": \"Apple\" , \"model\": \"2017\"}\n",
        "print(\"Given Value of h Data type is\",type(h))"
      ],
      "execution_count": null,
      "outputs": [
        {
          "output_type": "stream",
          "text": [
            "Given Value of a Data type is <class 'int'>\n",
            "Given Value of b Data type is <class 'float'>\n",
            "Given Value of c Data type is <class 'complex'>\n",
            "Given Value of d Data type is <class 'list'>\n",
            "Given Value of e  Data type is <class 'tuple'>\n",
            "Given Value of f Data type is <class 'str'>\n",
            "Given Value of g Data type is <class 'set'>\n",
            "Given Value of h Data type is <class 'dict'>\n"
          ],
          "name": "stdout"
        }
      ]
    },
    {
      "cell_type": "markdown",
      "metadata": {
        "id": "y38AdDP4_WJs",
        "colab_type": "text"
      },
      "source": [
        "#Question 7:\n",
        "Create a Markdown cell in jupyter and list the steps discussed in the session by Dr. Darshan\n",
        "\n"
      ]
    },
    {
      "cell_type": "markdown",
      "metadata": {
        "id": "SrHu24WGBUlM",
        "colab_type": "text"
      },
      "source": [
        "Go to Github website & Create a personal profile & Create a folder name Day 3 & Create new repository and name it LetsUpgrade AI/ML and leave it public \n",
        "upload excisting file (Drag and Drop your assignment from day 3 folder) & Click on commit changes.\n",
        "Go To Folder which you have created in repository , copy url & Paste it in Letsupgrade Submission google form. \n",
        "\n",
        "\n"
      ]
    },
    {
      "cell_type": "markdown",
      "metadata": {
        "id": "BxYpS38RaCvU",
        "colab_type": "text"
      },
      "source": [
        ""
      ]
    }
  ]
}